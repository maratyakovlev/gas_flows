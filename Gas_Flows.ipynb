{
 "cells": [
  {
   "attachments": {},
   "cell_type": "markdown",
   "metadata": {},
   "source": [
    "1. Решить проблему с GCV\n",
    "2. Почему подтянулось на одно значение меньше\n",
    "3. Пофиксить нули в изначальных данных?\n",
    "4. Добавить данные через request\n",
    "5. Залить на github"
   ]
  },
  {
   "cell_type": "code",
   "execution_count": 1,
   "metadata": {},
   "outputs": [],
   "source": [
    "import pandas as pd"
   ]
  },
  {
   "cell_type": "code",
   "execution_count": 2,
   "metadata": {},
   "outputs": [],
   "source": [
    "WH_flow_df = pd.read_csv('C:/Users/user/Documents/IDE/data/NG/Wilhelmshaven_flow_2023_05_12_160150.csv')\n",
    "WH_GCV_df = pd.read_csv('C:/Users/user/Documents/IDE/data/NG/Wilhelmshaven_GCV__2023_05_12_160436.csv')\n",
    "BEG_flow_df = pd.read_csv('C:/Users/user/Documents/IDE/data/NG/Baltic_Energy_Gate_flow_2023_05_12_160908.csv')\n",
    "BEG_GCV_df = pd.read_csv('C:/Users/user/Documents/IDE/data/NG/Baltic_Energy_Gate_GCV__2023_05_12_160946.csv')\n",
    "BBH_flow_df = pd.read_csv('C:/Users/user/Documents/IDE/data/NG/BRUNSBUETTEL_HAFEN_flow_2023_05_12_162127.csv')\n",
    "BBH_GCV_df = pd.read_csv('C:/Users/user/Documents/IDE/data/NG/BRUNSBUETTEL_HAFEN_GCV_2023_05_12_161110.csv')\n"
   ]
  },
  {
   "cell_type": "code",
   "execution_count": 3,
   "metadata": {},
   "outputs": [],
   "source": [
    "# I will use \"periodFrom\" as date series \"index\".\n",
    "# Converting columns to datetime format.\n",
    "WH_flow_df['periodFrom'] = pd.to_datetime(WH_flow_df['periodFrom'],dayfirst=False)\n",
    "WH_GCV_df['periodFrom'] = pd.to_datetime(WH_GCV_df['periodFrom'],dayfirst=False)\n",
    "BEG_flow_df['periodFrom'] = pd.to_datetime(BEG_flow_df['periodFrom'],dayfirst=False)\n",
    "BEG_GCV_df['periodFrom'] = pd.to_datetime(BEG_GCV_df['periodFrom'],dayfirst=False)\n",
    "BBH_flow_df['periodFrom'] = pd.to_datetime(BBH_flow_df['periodFrom'],dayfirst=False)\n",
    "BBH_GCV_df['periodFrom'] = pd.to_datetime(BBH_GCV_df['periodFrom'],dayfirst=False)"
   ]
  },
  {
   "cell_type": "code",
   "execution_count": 4,
   "metadata": {},
   "outputs": [
    {
     "name": "stdout",
     "output_type": "stream",
     "text": [
      "<class 'pandas.core.frame.DataFrame'>\n",
      "RangeIndex: 100 entries, 0 to 99\n",
      "Data columns (total 35 columns):\n",
      " #   Column                         Non-Null Count  Dtype         \n",
      "---  ------                         --------------  -----         \n",
      " 0   id                             100 non-null    object        \n",
      " 1   dataSet                        100 non-null    int64         \n",
      " 2   indicator                      100 non-null    object        \n",
      " 3   periodType                     100 non-null    object        \n",
      " 4   periodFrom                     100 non-null    datetime64[ns]\n",
      " 5   periodTo                       100 non-null    object        \n",
      " 6   operatorKey                    100 non-null    object        \n",
      " 7   tsoEicCode                     100 non-null    object        \n",
      " 8   operatorLabel                  100 non-null    object        \n",
      " 9   pointKey                       100 non-null    object        \n",
      " 10  pointLabel                     100 non-null    object        \n",
      " 11  tsoItemIdentifier              100 non-null    object        \n",
      " 12  directionKey                   100 non-null    object        \n",
      " 13  unit                           100 non-null    object        \n",
      " 14  itemRemarks                    0 non-null      float64       \n",
      " 15  generalRemarks                 0 non-null      float64       \n",
      " 16  value                          100 non-null    int64         \n",
      " 17  lastUpdateDateTime             100 non-null    object        \n",
      " 18  isUnlimited                    0 non-null      float64       \n",
      " 19  flowStatus                     100 non-null    object        \n",
      " 20  interruptionType               0 non-null      float64       \n",
      " 21  restorationInformation         0 non-null      float64       \n",
      " 22  capacityType                   0 non-null      float64       \n",
      " 23  capacityBookingStatus          0 non-null      float64       \n",
      " 24  isCamRelevant                  100 non-null    int64         \n",
      " 25  isNA                           0 non-null      float64       \n",
      " 26  originalPeriodFrom             0 non-null      float64       \n",
      " 27  isCmpRelevant                  0 non-null      float64       \n",
      " 28  bookingPlatformKey             100 non-null    object        \n",
      " 29  bookingPlatformLabel           0 non-null      float64       \n",
      " 30  bookingPlatformURL             100 non-null    object        \n",
      " 31  interruptionCalculationRemark  0 non-null      float64       \n",
      " 32  pointType                      100 non-null    object        \n",
      " 33  idPointType                    100 non-null    int64         \n",
      " 34  isArchived                     0 non-null      float64       \n",
      "dtypes: datetime64[ns](1), float64(13), int64(4), object(17)\n",
      "memory usage: 27.5+ KB\n"
     ]
    },
    {
     "data": {
      "text/plain": [
       "None"
      ]
     },
     "metadata": {},
     "output_type": "display_data"
    },
    {
     "data": {
      "text/html": [
       "<div>\n",
       "<style scoped>\n",
       "    .dataframe tbody tr th:only-of-type {\n",
       "        vertical-align: middle;\n",
       "    }\n",
       "\n",
       "    .dataframe tbody tr th {\n",
       "        vertical-align: top;\n",
       "    }\n",
       "\n",
       "    .dataframe thead th {\n",
       "        text-align: right;\n",
       "    }\n",
       "</style>\n",
       "<table border=\"1\" class=\"dataframe\">\n",
       "  <thead>\n",
       "    <tr style=\"text-align: right;\">\n",
       "      <th></th>\n",
       "      <th>id</th>\n",
       "      <th>dataSet</th>\n",
       "      <th>indicator</th>\n",
       "      <th>periodType</th>\n",
       "      <th>periodFrom</th>\n",
       "      <th>periodTo</th>\n",
       "      <th>operatorKey</th>\n",
       "      <th>tsoEicCode</th>\n",
       "      <th>operatorLabel</th>\n",
       "      <th>pointKey</th>\n",
       "      <th>...</th>\n",
       "      <th>isNA</th>\n",
       "      <th>originalPeriodFrom</th>\n",
       "      <th>isCmpRelevant</th>\n",
       "      <th>bookingPlatformKey</th>\n",
       "      <th>bookingPlatformLabel</th>\n",
       "      <th>bookingPlatformURL</th>\n",
       "      <th>interruptionCalculationRemark</th>\n",
       "      <th>pointType</th>\n",
       "      <th>idPointType</th>\n",
       "      <th>isArchived</th>\n",
       "    </tr>\n",
       "  </thead>\n",
       "  <tbody>\n",
       "    <tr>\n",
       "      <th>0</th>\n",
       "      <td>1Physical Flowday2023-02-012023-02-02DE-TSO-00...</td>\n",
       "      <td>1</td>\n",
       "      <td>Physical Flow</td>\n",
       "      <td>day</td>\n",
       "      <td>2023-02-01 06:00:00</td>\n",
       "      <td>2023-02-02 06:00</td>\n",
       "      <td>DE-TSO-0005</td>\n",
       "      <td>21X-DE-D-A0A0A-K</td>\n",
       "      <td>Gasunie Deutschland</td>\n",
       "      <td>LNG-00060</td>\n",
       "      <td>...</td>\n",
       "      <td>NaN</td>\n",
       "      <td>NaN</td>\n",
       "      <td>NaN</td>\n",
       "      <td>PRISMA</td>\n",
       "      <td>NaN</td>\n",
       "      <td>https://platform.prisma-capacity.eu/</td>\n",
       "      <td>NaN</td>\n",
       "      <td>LNG Entry point</td>\n",
       "      <td>2</td>\n",
       "      <td>NaN</td>\n",
       "    </tr>\n",
       "    <tr>\n",
       "      <th>1</th>\n",
       "      <td>1Physical Flowday2023-02-022023-02-03DE-TSO-00...</td>\n",
       "      <td>1</td>\n",
       "      <td>Physical Flow</td>\n",
       "      <td>day</td>\n",
       "      <td>2023-02-02 06:00:00</td>\n",
       "      <td>2023-02-03 06:00</td>\n",
       "      <td>DE-TSO-0005</td>\n",
       "      <td>21X-DE-D-A0A0A-K</td>\n",
       "      <td>Gasunie Deutschland</td>\n",
       "      <td>LNG-00060</td>\n",
       "      <td>...</td>\n",
       "      <td>NaN</td>\n",
       "      <td>NaN</td>\n",
       "      <td>NaN</td>\n",
       "      <td>PRISMA</td>\n",
       "      <td>NaN</td>\n",
       "      <td>https://platform.prisma-capacity.eu/</td>\n",
       "      <td>NaN</td>\n",
       "      <td>LNG Entry point</td>\n",
       "      <td>2</td>\n",
       "      <td>NaN</td>\n",
       "    </tr>\n",
       "    <tr>\n",
       "      <th>2</th>\n",
       "      <td>1Physical Flowday2023-02-032023-02-04DE-TSO-00...</td>\n",
       "      <td>1</td>\n",
       "      <td>Physical Flow</td>\n",
       "      <td>day</td>\n",
       "      <td>2023-02-03 06:00:00</td>\n",
       "      <td>2023-02-04 06:00</td>\n",
       "      <td>DE-TSO-0005</td>\n",
       "      <td>21X-DE-D-A0A0A-K</td>\n",
       "      <td>Gasunie Deutschland</td>\n",
       "      <td>LNG-00060</td>\n",
       "      <td>...</td>\n",
       "      <td>NaN</td>\n",
       "      <td>NaN</td>\n",
       "      <td>NaN</td>\n",
       "      <td>PRISMA</td>\n",
       "      <td>NaN</td>\n",
       "      <td>https://platform.prisma-capacity.eu/</td>\n",
       "      <td>NaN</td>\n",
       "      <td>LNG Entry point</td>\n",
       "      <td>2</td>\n",
       "      <td>NaN</td>\n",
       "    </tr>\n",
       "    <tr>\n",
       "      <th>3</th>\n",
       "      <td>1Physical Flowday2023-02-042023-02-05DE-TSO-00...</td>\n",
       "      <td>1</td>\n",
       "      <td>Physical Flow</td>\n",
       "      <td>day</td>\n",
       "      <td>2023-02-04 06:00:00</td>\n",
       "      <td>2023-02-05 06:00</td>\n",
       "      <td>DE-TSO-0005</td>\n",
       "      <td>21X-DE-D-A0A0A-K</td>\n",
       "      <td>Gasunie Deutschland</td>\n",
       "      <td>LNG-00060</td>\n",
       "      <td>...</td>\n",
       "      <td>NaN</td>\n",
       "      <td>NaN</td>\n",
       "      <td>NaN</td>\n",
       "      <td>PRISMA</td>\n",
       "      <td>NaN</td>\n",
       "      <td>https://platform.prisma-capacity.eu/</td>\n",
       "      <td>NaN</td>\n",
       "      <td>LNG Entry point</td>\n",
       "      <td>2</td>\n",
       "      <td>NaN</td>\n",
       "    </tr>\n",
       "    <tr>\n",
       "      <th>4</th>\n",
       "      <td>1Physical Flowday2023-02-052023-02-06DE-TSO-00...</td>\n",
       "      <td>1</td>\n",
       "      <td>Physical Flow</td>\n",
       "      <td>day</td>\n",
       "      <td>2023-02-05 06:00:00</td>\n",
       "      <td>2023-02-06 06:00</td>\n",
       "      <td>DE-TSO-0005</td>\n",
       "      <td>21X-DE-D-A0A0A-K</td>\n",
       "      <td>Gasunie Deutschland</td>\n",
       "      <td>LNG-00060</td>\n",
       "      <td>...</td>\n",
       "      <td>NaN</td>\n",
       "      <td>NaN</td>\n",
       "      <td>NaN</td>\n",
       "      <td>PRISMA</td>\n",
       "      <td>NaN</td>\n",
       "      <td>https://platform.prisma-capacity.eu/</td>\n",
       "      <td>NaN</td>\n",
       "      <td>LNG Entry point</td>\n",
       "      <td>2</td>\n",
       "      <td>NaN</td>\n",
       "    </tr>\n",
       "  </tbody>\n",
       "</table>\n",
       "<p>5 rows × 35 columns</p>\n",
       "</div>"
      ],
      "text/plain": [
       "                                                  id  dataSet      indicator  \\\n",
       "0  1Physical Flowday2023-02-012023-02-02DE-TSO-00...        1  Physical Flow   \n",
       "1  1Physical Flowday2023-02-022023-02-03DE-TSO-00...        1  Physical Flow   \n",
       "2  1Physical Flowday2023-02-032023-02-04DE-TSO-00...        1  Physical Flow   \n",
       "3  1Physical Flowday2023-02-042023-02-05DE-TSO-00...        1  Physical Flow   \n",
       "4  1Physical Flowday2023-02-052023-02-06DE-TSO-00...        1  Physical Flow   \n",
       "\n",
       "  periodType          periodFrom          periodTo  operatorKey  \\\n",
       "0        day 2023-02-01 06:00:00  2023-02-02 06:00  DE-TSO-0005   \n",
       "1        day 2023-02-02 06:00:00  2023-02-03 06:00  DE-TSO-0005   \n",
       "2        day 2023-02-03 06:00:00  2023-02-04 06:00  DE-TSO-0005   \n",
       "3        day 2023-02-04 06:00:00  2023-02-05 06:00  DE-TSO-0005   \n",
       "4        day 2023-02-05 06:00:00  2023-02-06 06:00  DE-TSO-0005   \n",
       "\n",
       "         tsoEicCode         operatorLabel   pointKey  ... isNA  \\\n",
       "0  21X-DE-D-A0A0A-K  Gasunie Deutschland   LNG-00060  ...  NaN   \n",
       "1  21X-DE-D-A0A0A-K  Gasunie Deutschland   LNG-00060  ...  NaN   \n",
       "2  21X-DE-D-A0A0A-K  Gasunie Deutschland   LNG-00060  ...  NaN   \n",
       "3  21X-DE-D-A0A0A-K  Gasunie Deutschland   LNG-00060  ...  NaN   \n",
       "4  21X-DE-D-A0A0A-K  Gasunie Deutschland   LNG-00060  ...  NaN   \n",
       "\n",
       "  originalPeriodFrom isCmpRelevant bookingPlatformKey  bookingPlatformLabel  \\\n",
       "0                NaN           NaN             PRISMA                   NaN   \n",
       "1                NaN           NaN             PRISMA                   NaN   \n",
       "2                NaN           NaN             PRISMA                   NaN   \n",
       "3                NaN           NaN             PRISMA                   NaN   \n",
       "4                NaN           NaN             PRISMA                   NaN   \n",
       "\n",
       "                     bookingPlatformURL  interruptionCalculationRemark  \\\n",
       "0  https://platform.prisma-capacity.eu/                            NaN   \n",
       "1  https://platform.prisma-capacity.eu/                            NaN   \n",
       "2  https://platform.prisma-capacity.eu/                            NaN   \n",
       "3  https://platform.prisma-capacity.eu/                            NaN   \n",
       "4  https://platform.prisma-capacity.eu/                            NaN   \n",
       "\n",
       "         pointType  idPointType isArchived  \n",
       "0  LNG Entry point            2        NaN  \n",
       "1  LNG Entry point            2        NaN  \n",
       "2  LNG Entry point            2        NaN  \n",
       "3  LNG Entry point            2        NaN  \n",
       "4  LNG Entry point            2        NaN  \n",
       "\n",
       "[5 rows x 35 columns]"
      ]
     },
     "metadata": {},
     "output_type": "display_data"
    }
   ],
   "source": [
    "display(BBH_flow_df.info())\n",
    "display(BBH_flow_df.head())"
   ]
  },
  {
   "attachments": {},
   "cell_type": "markdown",
   "metadata": {},
   "source": [
    "### Solving missing GCV data entries.\n",
    "\n",
    "During the analysis I encountered this problem that for Baltic Energy Gate Terminal for some days with gas flow data there is now GCV data.  \n",
    "I looked into it and there is no GCV data for the starting period of Terminal working.  \n",
    "So, maybe there was some technical problems with data collection.  \n",
    "Anyway, this problem could happen for any date.  \n",
    "So I'm going resolve it this way:  \n",
    "I will merge (by \"left join\") GCV data with gas flow data for each respective Terminal (keeping in mind that gas flow and GCV data should be downloaded for the same period).    \n",
    "And then, if the is some missing GCV data I would fill it with 21 day rolling average (10 days before and 10 days after the date).\n",
    "If there is no data for this 21 day period also - I would use average GCV for the whole period of observations."
   ]
  },
  {
   "cell_type": "code",
   "execution_count": 5,
   "metadata": {},
   "outputs": [],
   "source": [
    "BEG_flow_df = BEG_flow_df[['periodFrom','value']]\n",
    "BEG_flow_df.rename(columns={\"value\": \"Baltic_Energy_Gate_flow, kWh/d\"},inplace=True)\n",
    "\n",
    "BEG_GCV_df = BEG_GCV_df[['periodFrom','value']]\n",
    "BEG_GCV_df.rename(columns={\"value\": \"Baltic_Energy_Gate_GCV, kWh/Nm3\"},inplace=True)\n",
    "\n",
    "BEG_df = BEG_flow_df.merge(right=BEG_GCV_df, how='left',left_on='periodFrom',right_on='periodFrom')\n",
    "#merged_df.drop(columns=['periodFrom', 'pointKey','pointLabel','indicator','unit'], inplace=True)\n",
    "#merged_df.rename(columns={\"value\": \"Wilhelmshaven_flow, kWh/d\"},inplace=True)"
   ]
  },
  {
   "cell_type": "code",
   "execution_count": 6,
   "metadata": {},
   "outputs": [],
   "source": [
    "test_df = WH_flow_df[:2]"
   ]
  },
  {
   "cell_type": "code",
   "execution_count": 7,
   "metadata": {},
   "outputs": [
    {
     "data": {
      "text/html": [
       "<div>\n",
       "<style scoped>\n",
       "    .dataframe tbody tr th:only-of-type {\n",
       "        vertical-align: middle;\n",
       "    }\n",
       "\n",
       "    .dataframe tbody tr th {\n",
       "        vertical-align: top;\n",
       "    }\n",
       "\n",
       "    .dataframe thead th {\n",
       "        text-align: right;\n",
       "    }\n",
       "</style>\n",
       "<table border=\"1\" class=\"dataframe\">\n",
       "  <thead>\n",
       "    <tr style=\"text-align: right;\">\n",
       "      <th></th>\n",
       "      <th>id</th>\n",
       "      <th>dataSet</th>\n",
       "      <th>indicator</th>\n",
       "      <th>periodType</th>\n",
       "      <th>periodFrom</th>\n",
       "      <th>periodTo</th>\n",
       "      <th>operatorKey</th>\n",
       "      <th>tsoEicCode</th>\n",
       "      <th>operatorLabel</th>\n",
       "      <th>pointKey</th>\n",
       "      <th>...</th>\n",
       "      <th>isNA</th>\n",
       "      <th>originalPeriodFrom</th>\n",
       "      <th>isCmpRelevant</th>\n",
       "      <th>bookingPlatformKey</th>\n",
       "      <th>bookingPlatformLabel</th>\n",
       "      <th>bookingPlatformURL</th>\n",
       "      <th>interruptionCalculationRemark</th>\n",
       "      <th>pointType</th>\n",
       "      <th>idPointType</th>\n",
       "      <th>isArchived</th>\n",
       "    </tr>\n",
       "  </thead>\n",
       "  <tbody>\n",
       "    <tr>\n",
       "      <th>0</th>\n",
       "      <td>1Physical Flowday2022-12-202022-12-21DE-TSO-00...</td>\n",
       "      <td>1</td>\n",
       "      <td>Physical Flow</td>\n",
       "      <td>day</td>\n",
       "      <td>2022-12-20 06:00:00</td>\n",
       "      <td>2022-12-21 06:00</td>\n",
       "      <td>DE-TSO-0009</td>\n",
       "      <td>21X-DE-C-A0A0A-T</td>\n",
       "      <td>Open Grid Europe</td>\n",
       "      <td>LNG-00066</td>\n",
       "      <td>...</td>\n",
       "      <td>NaN</td>\n",
       "      <td>NaN</td>\n",
       "      <td>NaN</td>\n",
       "      <td>PRISMA</td>\n",
       "      <td>NaN</td>\n",
       "      <td>https://platform.prisma-capacity.eu/</td>\n",
       "      <td>NaN</td>\n",
       "      <td>LNG Entry point</td>\n",
       "      <td>2</td>\n",
       "      <td>NaN</td>\n",
       "    </tr>\n",
       "    <tr>\n",
       "      <th>1</th>\n",
       "      <td>1Physical Flowday2022-12-212022-12-22DE-TSO-00...</td>\n",
       "      <td>1</td>\n",
       "      <td>Physical Flow</td>\n",
       "      <td>day</td>\n",
       "      <td>2022-12-21 06:00:00</td>\n",
       "      <td>2022-12-22 06:00</td>\n",
       "      <td>DE-TSO-0009</td>\n",
       "      <td>21X-DE-C-A0A0A-T</td>\n",
       "      <td>Open Grid Europe</td>\n",
       "      <td>LNG-00066</td>\n",
       "      <td>...</td>\n",
       "      <td>NaN</td>\n",
       "      <td>NaN</td>\n",
       "      <td>NaN</td>\n",
       "      <td>PRISMA</td>\n",
       "      <td>NaN</td>\n",
       "      <td>https://platform.prisma-capacity.eu/</td>\n",
       "      <td>NaN</td>\n",
       "      <td>LNG Entry point</td>\n",
       "      <td>2</td>\n",
       "      <td>NaN</td>\n",
       "    </tr>\n",
       "  </tbody>\n",
       "</table>\n",
       "<p>2 rows × 35 columns</p>\n",
       "</div>"
      ],
      "text/plain": [
       "                                                  id  dataSet      indicator  \\\n",
       "0  1Physical Flowday2022-12-202022-12-21DE-TSO-00...        1  Physical Flow   \n",
       "1  1Physical Flowday2022-12-212022-12-22DE-TSO-00...        1  Physical Flow   \n",
       "\n",
       "  periodType          periodFrom          periodTo  operatorKey  \\\n",
       "0        day 2022-12-20 06:00:00  2022-12-21 06:00  DE-TSO-0009   \n",
       "1        day 2022-12-21 06:00:00  2022-12-22 06:00  DE-TSO-0009   \n",
       "\n",
       "         tsoEicCode     operatorLabel   pointKey  ... isNA originalPeriodFrom  \\\n",
       "0  21X-DE-C-A0A0A-T  Open Grid Europe  LNG-00066  ...  NaN                NaN   \n",
       "1  21X-DE-C-A0A0A-T  Open Grid Europe  LNG-00066  ...  NaN                NaN   \n",
       "\n",
       "  isCmpRelevant bookingPlatformKey  bookingPlatformLabel  \\\n",
       "0           NaN             PRISMA                   NaN   \n",
       "1           NaN             PRISMA                   NaN   \n",
       "\n",
       "                     bookingPlatformURL  interruptionCalculationRemark  \\\n",
       "0  https://platform.prisma-capacity.eu/                            NaN   \n",
       "1  https://platform.prisma-capacity.eu/                            NaN   \n",
       "\n",
       "         pointType  idPointType isArchived  \n",
       "0  LNG Entry point            2        NaN  \n",
       "1  LNG Entry point            2        NaN  \n",
       "\n",
       "[2 rows x 35 columns]"
      ]
     },
     "metadata": {},
     "output_type": "display_data"
    }
   ],
   "source": [
    "display(test_df)"
   ]
  },
  {
   "cell_type": "code",
   "execution_count": 8,
   "metadata": {},
   "outputs": [
    {
     "data": {
      "text/plain": [
       "Timestamp('2022-12-21 06:00:00')"
      ]
     },
     "metadata": {},
     "output_type": "display_data"
    }
   ],
   "source": [
    "display(test_df.iloc[1,4])"
   ]
  },
  {
   "cell_type": "code",
   "execution_count": 9,
   "metadata": {},
   "outputs": [],
   "source": [
    "#BEG_df['mean_GCV'] = BEG_df['Baltic_Energy_Gate_GCV, kWh/Nm3'].rolling(21, center=True).mean(skipna=True)\n",
    "#BEG_df['Baltic_Energy_Gate_GCV, kWh/Nm3'] = BEG_df['Baltic_Energy_Gate_GCV, kWh/Nm3'].fillna(0)"
   ]
  },
  {
   "cell_type": "code",
   "execution_count": 10,
   "metadata": {},
   "outputs": [],
   "source": [
    "mean_GCV = BEG_df['Baltic_Energy_Gate_GCV, kWh/Nm3'].mean(skipna=True)"
   ]
  },
  {
   "cell_type": "code",
   "execution_count": 11,
   "metadata": {},
   "outputs": [
    {
     "name": "stdout",
     "output_type": "stream",
     "text": [
      "11.452800000000002\n"
     ]
    }
   ],
   "source": [
    "print(mean_GCV)"
   ]
  },
  {
   "cell_type": "code",
   "execution_count": 15,
   "metadata": {},
   "outputs": [],
   "source": [
    "def GCV_fill(entry):\n",
    "    if pd.isna(entry) == True:\n",
    "        return mean_GCV  \n",
    "    else:\n",
    "        return entry"
   ]
  },
  {
   "cell_type": "code",
   "execution_count": 13,
   "metadata": {},
   "outputs": [
    {
     "name": "stdout",
     "output_type": "stream",
     "text": [
      "<class 'pandas.core.frame.DataFrame'>\n",
      "Int64Index: 141 entries, 0 to 140\n",
      "Data columns (total 3 columns):\n",
      " #   Column                           Non-Null Count  Dtype         \n",
      "---  ------                           --------------  -----         \n",
      " 0   periodFrom                       141 non-null    datetime64[ns]\n",
      " 1   Baltic_Energy_Gate_flow, kWh/d   141 non-null    int64         \n",
      " 2   Baltic_Energy_Gate_GCV, kWh/Nm3  105 non-null    float64       \n",
      "dtypes: datetime64[ns](1), float64(1), int64(1)\n",
      "memory usage: 4.4 KB\n"
     ]
    },
    {
     "data": {
      "text/plain": [
       "None"
      ]
     },
     "metadata": {},
     "output_type": "display_data"
    }
   ],
   "source": [
    "display(BEG_df.info())"
   ]
  },
  {
   "cell_type": "code",
   "execution_count": 16,
   "metadata": {},
   "outputs": [],
   "source": [
    "BEG_df['Baltic_Energy_Gate_GCV, kWh/Nm3'] = BEG_df['Baltic_Energy_Gate_GCV, kWh/Nm3'].apply(GCV_fill) "
   ]
  },
  {
   "cell_type": "code",
   "execution_count": 17,
   "metadata": {},
   "outputs": [
    {
     "data": {
      "text/html": [
       "<div>\n",
       "<style scoped>\n",
       "    .dataframe tbody tr th:only-of-type {\n",
       "        vertical-align: middle;\n",
       "    }\n",
       "\n",
       "    .dataframe tbody tr th {\n",
       "        vertical-align: top;\n",
       "    }\n",
       "\n",
       "    .dataframe thead th {\n",
       "        text-align: right;\n",
       "    }\n",
       "</style>\n",
       "<table border=\"1\" class=\"dataframe\">\n",
       "  <thead>\n",
       "    <tr style=\"text-align: right;\">\n",
       "      <th></th>\n",
       "      <th>periodFrom</th>\n",
       "      <th>Baltic_Energy_Gate_flow, kWh/d</th>\n",
       "      <th>Baltic_Energy_Gate_GCV, kWh/Nm3</th>\n",
       "    </tr>\n",
       "  </thead>\n",
       "  <tbody>\n",
       "    <tr>\n",
       "      <th>0</th>\n",
       "      <td>2022-12-22 06:00:00</td>\n",
       "      <td>0</td>\n",
       "      <td>11.4528</td>\n",
       "    </tr>\n",
       "    <tr>\n",
       "      <th>1</th>\n",
       "      <td>2022-12-23 06:00:00</td>\n",
       "      <td>0</td>\n",
       "      <td>11.4528</td>\n",
       "    </tr>\n",
       "    <tr>\n",
       "      <th>2</th>\n",
       "      <td>2022-12-24 06:00:00</td>\n",
       "      <td>0</td>\n",
       "      <td>11.4528</td>\n",
       "    </tr>\n",
       "    <tr>\n",
       "      <th>3</th>\n",
       "      <td>2022-12-25 06:00:00</td>\n",
       "      <td>0</td>\n",
       "      <td>11.4528</td>\n",
       "    </tr>\n",
       "    <tr>\n",
       "      <th>4</th>\n",
       "      <td>2022-12-26 06:00:00</td>\n",
       "      <td>0</td>\n",
       "      <td>11.4528</td>\n",
       "    </tr>\n",
       "    <tr>\n",
       "      <th>...</th>\n",
       "      <td>...</td>\n",
       "      <td>...</td>\n",
       "      <td>...</td>\n",
       "    </tr>\n",
       "    <tr>\n",
       "      <th>136</th>\n",
       "      <td>2023-05-07 06:00:00</td>\n",
       "      <td>36134838</td>\n",
       "      <td>11.3280</td>\n",
       "    </tr>\n",
       "    <tr>\n",
       "      <th>137</th>\n",
       "      <td>2023-05-08 06:00:00</td>\n",
       "      <td>36100314</td>\n",
       "      <td>11.3190</td>\n",
       "    </tr>\n",
       "    <tr>\n",
       "      <th>138</th>\n",
       "      <td>2023-05-09 06:00:00</td>\n",
       "      <td>24147517</td>\n",
       "      <td>11.3110</td>\n",
       "    </tr>\n",
       "    <tr>\n",
       "      <th>139</th>\n",
       "      <td>2023-05-10 06:00:00</td>\n",
       "      <td>35871124</td>\n",
       "      <td>11.3270</td>\n",
       "    </tr>\n",
       "    <tr>\n",
       "      <th>140</th>\n",
       "      <td>2023-05-11 06:00:00</td>\n",
       "      <td>36271817</td>\n",
       "      <td>11.3260</td>\n",
       "    </tr>\n",
       "  </tbody>\n",
       "</table>\n",
       "<p>141 rows × 3 columns</p>\n",
       "</div>"
      ],
      "text/plain": [
       "             periodFrom  Baltic_Energy_Gate_flow, kWh/d  \\\n",
       "0   2022-12-22 06:00:00                               0   \n",
       "1   2022-12-23 06:00:00                               0   \n",
       "2   2022-12-24 06:00:00                               0   \n",
       "3   2022-12-25 06:00:00                               0   \n",
       "4   2022-12-26 06:00:00                               0   \n",
       "..                  ...                             ...   \n",
       "136 2023-05-07 06:00:00                        36134838   \n",
       "137 2023-05-08 06:00:00                        36100314   \n",
       "138 2023-05-09 06:00:00                        24147517   \n",
       "139 2023-05-10 06:00:00                        35871124   \n",
       "140 2023-05-11 06:00:00                        36271817   \n",
       "\n",
       "     Baltic_Energy_Gate_GCV, kWh/Nm3  \n",
       "0                            11.4528  \n",
       "1                            11.4528  \n",
       "2                            11.4528  \n",
       "3                            11.4528  \n",
       "4                            11.4528  \n",
       "..                               ...  \n",
       "136                          11.3280  \n",
       "137                          11.3190  \n",
       "138                          11.3110  \n",
       "139                          11.3270  \n",
       "140                          11.3260  \n",
       "\n",
       "[141 rows x 3 columns]"
      ]
     },
     "metadata": {},
     "output_type": "display_data"
    },
    {
     "data": {
      "text/html": [
       "<div>\n",
       "<style scoped>\n",
       "    .dataframe tbody tr th:only-of-type {\n",
       "        vertical-align: middle;\n",
       "    }\n",
       "\n",
       "    .dataframe tbody tr th {\n",
       "        vertical-align: top;\n",
       "    }\n",
       "\n",
       "    .dataframe thead th {\n",
       "        text-align: right;\n",
       "    }\n",
       "</style>\n",
       "<table border=\"1\" class=\"dataframe\">\n",
       "  <thead>\n",
       "    <tr style=\"text-align: right;\">\n",
       "      <th></th>\n",
       "      <th>periodFrom</th>\n",
       "      <th>Baltic_Energy_Gate_flow, kWh/d</th>\n",
       "      <th>Baltic_Energy_Gate_GCV, kWh/Nm3</th>\n",
       "    </tr>\n",
       "  </thead>\n",
       "  <tbody>\n",
       "    <tr>\n",
       "      <th>24</th>\n",
       "      <td>2023-01-15 06:00:00</td>\n",
       "      <td>18478752</td>\n",
       "      <td>11.4528</td>\n",
       "    </tr>\n",
       "  </tbody>\n",
       "</table>\n",
       "</div>"
      ],
      "text/plain": [
       "            periodFrom  Baltic_Energy_Gate_flow, kWh/d  \\\n",
       "24 2023-01-15 06:00:00                        18478752   \n",
       "\n",
       "    Baltic_Energy_Gate_GCV, kWh/Nm3  \n",
       "24                          11.4528  "
      ]
     },
     "metadata": {},
     "output_type": "display_data"
    },
    {
     "name": "stdout",
     "output_type": "stream",
     "text": [
      "<class 'pandas.core.frame.DataFrame'>\n",
      "Int64Index: 141 entries, 0 to 140\n",
      "Data columns (total 3 columns):\n",
      " #   Column                           Non-Null Count  Dtype         \n",
      "---  ------                           --------------  -----         \n",
      " 0   periodFrom                       141 non-null    datetime64[ns]\n",
      " 1   Baltic_Energy_Gate_flow, kWh/d   141 non-null    int64         \n",
      " 2   Baltic_Energy_Gate_GCV, kWh/Nm3  141 non-null    float64       \n",
      "dtypes: datetime64[ns](1), float64(1), int64(1)\n",
      "memory usage: 4.4 KB\n"
     ]
    },
    {
     "data": {
      "text/plain": [
       "None"
      ]
     },
     "metadata": {},
     "output_type": "display_data"
    }
   ],
   "source": [
    "display(BEG_df)\n",
    "display(BEG_df[BEG_df['periodFrom'] == '2023-01-15 06:00:00'])\n",
    "display(BEG_df.info())"
   ]
  },
  {
   "cell_type": "code",
   "execution_count": null,
   "metadata": {},
   "outputs": [],
   "source": [
    "df = pd.DataFrame({'A': [0, 1, 0, 1, 0, 1, 1, 1, 0, 0]})"
   ]
  },
  {
   "cell_type": "code",
   "execution_count": null,
   "metadata": {},
   "outputs": [],
   "source": [
    "df['B'] = df['A'].rolling(3, center=True).mean()"
   ]
  },
  {
   "cell_type": "code",
   "execution_count": null,
   "metadata": {},
   "outputs": [],
   "source": [
    "display(df)"
   ]
  },
  {
   "cell_type": "code",
   "execution_count": null,
   "metadata": {},
   "outputs": [],
   "source": [
    "# Getting rid of some columns\n",
    "WH_flow_df = WH_flow_df[['periodFrom','pointKey','pointLabel','indicator','value','unit']]\n",
    "WH_GCV_df = WH_GCV_df[['periodFrom','pointKey','pointLabel','indicator','value','unit']]\n",
    "BEG_flow_df = BEG_flow_df[['periodFrom','pointKey','pointLabel','indicator','value','unit']]\n",
    "BEG_GCV_df = BEG_GCV_df[['periodFrom','pointKey','pointLabel','indicator','value','unit']]\n",
    "BBH_flow_df = BBH_flow_df[['periodFrom','pointKey','pointLabel','indicator','value','unit']]\n",
    "BBH_GCV_df = BBH_GCV_df[['periodFrom','pointKey','pointLabel','indicator','value','unit']]"
   ]
  },
  {
   "cell_type": "code",
   "execution_count": null,
   "metadata": {},
   "outputs": [],
   "source": [
    "display(WH_flow_df.info())\n",
    "display(WH_flow_df.head())"
   ]
  },
  {
   "attachments": {},
   "cell_type": "markdown",
   "metadata": {},
   "source": [
    "Now I want to create a dataframe where we'll have a date range as \"index\".  \n",
    "Then I'll add flow and GCV data by merging (\"left join\") data to this \"index\".  \n",
    "The point is that downloaded dataframe with terminal's data have different amount of entries,  \n",
    "as Terminals have gas flows on different dates.  \n",
    "So this \"index\" will serve as base for this dataframe."
   ]
  },
  {
   "cell_type": "code",
   "execution_count": null,
   "metadata": {},
   "outputs": [],
   "source": [
    "# Creating date range.\n",
    "merged_df = pd.DataFrame(pd.date_range(start='2022-09-01 06:00:00', end='2023-05-10 06:00:00', freq='D'), columns=['date'])"
   ]
  },
  {
   "cell_type": "code",
   "execution_count": null,
   "metadata": {},
   "outputs": [],
   "source": [
    "# Merging dataframes.\n",
    "merged_df = merged_df.merge(right=WH_flow_df, how='left',left_on='date',right_on='periodFrom')\n",
    "merged_df.drop(columns=['periodFrom', 'pointKey','pointLabel','indicator','unit'], inplace=True)\n",
    "merged_df.rename(columns={\"value\": \"Wilhelmshaven_flow, kWh/d\"},inplace=True)\n",
    "\n",
    "merged_df = merged_df.merge(right=WH_GCV_df, how='left',left_on='date',right_on='periodFrom')\n",
    "merged_df.drop(columns=['periodFrom', 'pointKey','pointLabel','indicator','unit'], inplace=True)\n",
    "merged_df.rename(columns={\"value\": \"Wilhelmshaven_GCV, kWh/Nm3\"},inplace=True)\n",
    "\n",
    "merged_df = merged_df.merge(right=BEG_flow_df, how='left',left_on='date',right_on='periodFrom')\n",
    "merged_df.drop(columns=['periodFrom', 'pointKey','pointLabel','indicator','unit'], inplace=True)\n",
    "merged_df.rename(columns={\"value\": \"Baltic_Energy_Gate_flow, kWh/d\"},inplace=True)\n",
    "\n",
    "merged_df = merged_df.merge(right=BEG_GCV_df, how='left',left_on='date',right_on='periodFrom')\n",
    "merged_df.drop(columns=['periodFrom', 'pointKey','pointLabel','indicator','unit'], inplace=True)\n",
    "merged_df.rename(columns={\"value\": \"Baltic_Energy_Gate_GCV, kWh/Nm3\"},inplace=True)\n",
    "\n",
    "merged_df = merged_df.merge(right=BBH_flow_df, how='left',left_on='date',right_on='periodFrom')\n",
    "merged_df.drop(columns=['periodFrom', 'pointKey','pointLabel','indicator','unit'], inplace=True)\n",
    "merged_df.rename(columns={\"value\": \"Brunsbuettel_Hafen_flow, kWh/d\"},inplace=True)\n",
    "\n",
    "merged_df = merged_df.merge(right=BBH_GCV_df, how='left',left_on='date',right_on='periodFrom')\n",
    "merged_df.drop(columns=['periodFrom', 'pointKey','pointLabel','indicator','unit'], inplace=True)\n",
    "merged_df.rename(columns={\"value\": \"Brunsbuettel_Hafen_GCV, kWh/Nm3\"},inplace=True)\n"
   ]
  },
  {
   "cell_type": "code",
   "execution_count": null,
   "metadata": {},
   "outputs": [],
   "source": [
    "# Converting kWh/day to\n",
    "merged_df['Wilhelmshaven_flow, kWh/d'] = merged_df['Wilhelmshaven_flow, kWh/d']/1000/1000\n",
    "merged_df['Baltic_Energy_Gate_flow, kWh/d'] = merged_df['Baltic_Energy_Gate_flow, kWh/d']/1000/1000\n",
    "merged_df['Brunsbuettel_Hafen_flow, kWh/d'] = merged_df['Brunsbuettel_Hafen_flow, kWh/d']/1000/1000"
   ]
  },
  {
   "cell_type": "code",
   "execution_count": null,
   "metadata": {},
   "outputs": [],
   "source": [
    "# Renaming columns accordingly\n",
    "merged_df.rename(columns={\"Wilhelmshaven_flow, kWh/d\": \"Wilhelmshaven_flow, GWh/d\"},inplace=True)\n",
    "merged_df.rename(columns={\"Baltic_Energy_Gate_flow, kWh/d\": \"Baltic_Energy_Gate_flow, GWh/d\"},inplace=True)\n",
    "merged_df.rename(columns={\"Brunsbuettel_Hafen_flow, kWh/d\": \"Brunsbuettel_Hafen_flow, GWh/d\"},inplace=True)"
   ]
  },
  {
   "cell_type": "code",
   "execution_count": null,
   "metadata": {},
   "outputs": [],
   "source": [
    "display(merged_df.head())\n",
    "display(merged_df.info())\n",
    "display(merged_df[merged_df['date'] == '2023-04-01 06:00:00'])"
   ]
  },
  {
   "attachments": {},
   "cell_type": "markdown",
   "metadata": {},
   "source": [
    "Now I want to create visualization for these gas flows using matplotlib library.  \n",
    "I want to create two stackplots for flow in GWh/day and in 1000 m3/day."
   ]
  },
  {
   "cell_type": "code",
   "execution_count": null,
   "metadata": {},
   "outputs": [],
   "source": [
    "display(merged_df[merged_df['Baltic_Energy_Gate_GCV, kWh/Nm3'].isnull() == True])"
   ]
  },
  {
   "cell_type": "code",
   "execution_count": null,
   "metadata": {},
   "outputs": [],
   "source": [
    "import numpy as np\n",
    "import matplotlib.pyplot as plt"
   ]
  },
  {
   "cell_type": "code",
   "execution_count": null,
   "metadata": {},
   "outputs": [],
   "source": [
    "#fig, ax = plt.subplots()\n",
    "fig = plt.figure(figsize=(8, 4))\n",
    "ax = fig.add_axes([0, 0, 1, 1])\n",
    "ax.stackplot(merged_df['date'], merged_df['Wilhelmshaven_flow, GWh/d'], merged_df['Brunsbuettel_Hafen_flow, GWh/d'], merged_df['Baltic_Energy_Gate_flow, GWh/d'],\n",
    "             labels=['Wilhelmshaven', 'Brunsbuettel','Baltic_Energy_Gate'], alpha=0.8,\n",
    "             #colors = ['mediumblue', 'darkred', 'lawngreen']\n",
    "             )\n",
    "ax.legend(loc='upper left')\n",
    "ax.set_title('Gas Flows at German LNG Terminals by day, GWh/day')\n",
    "#ax.set_xlabel('Day')\n",
    "ax.set_ylabel('GWh/day')\n",
    "\n",
    "plt.show()"
   ]
  }
 ],
 "metadata": {
  "kernelspec": {
   "display_name": "Python 3",
   "language": "python",
   "name": "python3"
  },
  "language_info": {
   "codemirror_mode": {
    "name": "ipython",
    "version": 3
   },
   "file_extension": ".py",
   "mimetype": "text/x-python",
   "name": "python",
   "nbconvert_exporter": "python",
   "pygments_lexer": "ipython3",
   "version": "3.11.0"
  },
  "orig_nbformat": 4
 },
 "nbformat": 4,
 "nbformat_minor": 2
}
